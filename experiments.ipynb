{
 "cells": [
  {
   "cell_type": "code",
   "execution_count": 3,
   "id": "631e000a",
   "metadata": {},
   "outputs": [],
   "source": [
    "from ml.config import MONGO_DB_URL\n",
    "import os"
   ]
  },
  {
   "cell_type": "code",
   "execution_count": 5,
   "id": "cbec0e90",
   "metadata": {},
   "outputs": [],
   "source": [
    "u=os.getenv(MONGO_DB_URL)"
   ]
  },
  {
   "cell_type": "code",
   "execution_count": 1,
   "id": "0ab062e8",
   "metadata": {},
   "outputs": [],
   "source": [
    "from ml.validation import validate_data"
   ]
  },
  {
   "cell_type": "code",
   "execution_count": null,
   "id": "641f69ca",
   "metadata": {},
   "outputs": [
    {
     "data": {
      "text/plain": [
       "{'having_IP_Address': {'p_value': 0.9999999991050752, 'drift': False},\n",
       " 'URL_Length': {'p_value': 0.9999998099738984, 'drift': False},\n",
       " 'Shortining_Service': {'p_value': 0.9999654772410788, 'drift': False},\n",
       " 'having_At_Symbol': {'p_value': 0.9999971010402764, 'drift': False},\n",
       " 'double_slash_redirecting': {'p_value': 0.9993864328065777, 'drift': False},\n",
       " 'Prefix_Suffix': {'p_value': 0.7634837477364733, 'drift': False},\n",
       " 'having_Sub_Domain': {'p_value': 0.9999993831997822, 'drift': False},\n",
       " 'SSLfinal_State': {'p_value': 0.9999989383967115, 'drift': False},\n",
       " 'Domain_registeration_length': {'p_value': 0.998821814236978, 'drift': False},\n",
       " 'Favicon': {'p_value': 0.7009958426886144, 'drift': False},\n",
       " 'port': {'p_value': 1.0, 'drift': False},\n",
       " 'HTTPS_token': {'p_value': 0.9999836499887566, 'drift': False},\n",
       " 'Request_URL': {'p_value': 0.9925611176019148, 'drift': False},\n",
       " 'URL_of_Anchor': {'p_value': 0.7481247116503471, 'drift': False},\n",
       " 'Links_in_tags': {'p_value': 0.9985597993583677, 'drift': False},\n",
       " 'SFH': {'p_value': 1.0, 'drift': False},\n",
       " 'Submitting_to_email': {'p_value': 1.0, 'drift': False},\n",
       " 'Abnormal_URL': {'p_value': 1.0, 'drift': False},\n",
       " 'Redirect': {'p_value': 0.9999998996954222, 'drift': False},\n",
       " 'on_mouseover': {'p_value': 0.9999760319468036, 'drift': False},\n",
       " 'RightClick': {'p_value': 0.9982529381226167, 'drift': False},\n",
       " 'popUpWidnow': {'p_value': 0.5498506384437393, 'drift': False},\n",
       " 'Iframe': {'p_value': 0.8221844390977682, 'drift': False},\n",
       " 'age_of_domain': {'p_value': 0.9999999883158472, 'drift': False},\n",
       " 'DNSRecord': {'p_value': 0.9999999999990964, 'drift': False},\n",
       " 'web_traffic': {'p_value': 0.998821814236978, 'drift': False},\n",
       " 'Page_Rank': {'p_value': 1.0, 'drift': False},\n",
       " 'Google_Index': {'p_value': 0.9999062353866229, 'drift': False},\n",
       " 'Links_pointing_to_page': {'p_value': 0.9997752665277037, 'drift': False},\n",
       " 'Statistical_report': {'p_value': 1.0, 'drift': False},\n",
       " 'Result': {'p_value': 0.7009958426886144, 'drift': False}}"
      ]
     },
     "execution_count": 3,
     "metadata": {},
     "output_type": "execute_result"
    }
   ],
   "source": [
    "validate_data()"
   ]
  },
  {
   "cell_type": "code",
   "execution_count": 3,
   "id": "e2a5e1d3",
   "metadata": {},
   "outputs": [
    {
     "data": {
      "text/plain": [
       "('e:\\\\Projects\\\\phishing_detection\\\\data\\\\raw\\\\raw_data.csv',\n",
       " 'e:\\\\Projects\\\\phishing_detection\\\\data\\\\processed\\\\train.csv',\n",
       " 'e:\\\\Projects\\\\phishing_detection\\\\data\\\\processed\\\\test.csv')"
      ]
     },
     "execution_count": 3,
     "metadata": {},
     "output_type": "execute_result"
    }
   ],
   "source": [
    "ingest_data()"
   ]
  },
  {
   "cell_type": "code",
   "execution_count": 2,
   "id": "066faf6c",
   "metadata": {},
   "outputs": [],
   "source": [
    "from ml.ingestion import ingest_data"
   ]
  },
  {
   "cell_type": "code",
   "execution_count": null,
   "id": "e805b9ab",
   "metadata": {},
   "outputs": [],
   "source": []
  }
 ],
 "metadata": {
  "kernelspec": {
   "display_name": "venv",
   "language": "python",
   "name": "python3"
  },
  "language_info": {
   "codemirror_mode": {
    "name": "ipython",
    "version": 3
   },
   "file_extension": ".py",
   "mimetype": "text/x-python",
   "name": "python",
   "nbconvert_exporter": "python",
   "pygments_lexer": "ipython3",
   "version": "3.13.0"
  }
 },
 "nbformat": 4,
 "nbformat_minor": 5
}
