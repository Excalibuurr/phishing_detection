{
 "cells": [
  {
   "cell_type": "code",
   "execution_count": 3,
   "id": "631e000a",
   "metadata": {},
   "outputs": [],
   "source": [
    "from ml.config import MONGO_DB_URL\n",
    "import os"
   ]
  },
  {
   "cell_type": "code",
   "execution_count": 5,
   "id": "cbec0e90",
   "metadata": {},
   "outputs": [],
   "source": [
    "u=os.getenv(MONGO_DB_URL)"
   ]
  },
  {
   "cell_type": "code",
   "execution_count": 6,
   "id": "0ab062e8",
   "metadata": {},
   "outputs": [],
   "source": [
    "u"
   ]
  },
  {
   "cell_type": "code",
   "execution_count": null,
   "id": "641f69ca",
   "metadata": {},
   "outputs": [],
   "source": []
  }
 ],
 "metadata": {
  "kernelspec": {
   "display_name": "venv",
   "language": "python",
   "name": "python3"
  },
  "language_info": {
   "codemirror_mode": {
    "name": "ipython",
    "version": 3
   },
   "file_extension": ".py",
   "mimetype": "text/x-python",
   "name": "python",
   "nbconvert_exporter": "python",
   "pygments_lexer": "ipython3",
   "version": "3.13.0"
  }
 },
 "nbformat": 4,
 "nbformat_minor": 5
}
